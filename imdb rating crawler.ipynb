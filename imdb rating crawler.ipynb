{
 "cells": [
  {
   "cell_type": "code",
   "execution_count": 23,
   "metadata": {
    "collapsed": true
   },
   "outputs": [],
   "source": [
    "from bs4 import BeautifulSoup\n",
    "import requests\n",
    "\n",
    "def search(sname):\n",
    "    try:\n",
    "        url = get_url(sname)\n",
    "        rating = get_rating(url)\n",
    "        print(sname,rating)\n",
    "        return rating\n",
    "    except IndexError:\n",
    "        return None\n",
    "\n",
    "def get_url(sname):\n",
    "    url = 'http://www.imdb.com/find?q=' + sname\n",
    "    wb_data = requests.get(url)\n",
    "    soup = BeautifulSoup(wb_data.text,'lxml')\n",
    "    url = soup.select('.result_text a')[0].get('href')\n",
    "    return 'http://www.imdb.com/' + url\n",
    "\n",
    "\n",
    "def get_rating(url):\n",
    "    wb_data = requests.get(url)\n",
    "    soup = BeautifulSoup(wb_data.text,'lxml')\n",
    "    rating = soup.select('.ratingValue > strong > span')[0].get_text()\n",
    "    return rating"
   ]
  },
  {
   "cell_type": "code",
   "execution_count": 24,
   "metadata": {
    "collapsed": false
   },
   "outputs": [],
   "source": [
    "df = pd.read_excel('ratings.xlsx',header=None).rename(columns = {0:'name'})"
   ]
  },
  {
   "cell_type": "code",
   "execution_count": 25,
   "metadata": {
    "collapsed": false
   },
   "outputs": [
    {
     "name": "stdout",
     "output_type": "stream",
     "text": [
      "Dancing with the stars 4.7\n",
      "20/20 6.6\n",
      "American Housewife 7.0\n",
      "America’s Funniest Home Videos 6.2\n",
      "Black-ish 7.1\n",
      "Conviction 7.3\n",
      "Designated Survivor 8.1\n",
      "Dr. Ken 5.6\n",
      "Fresh off the Boat 8.0\n",
      "The Goldbergs 8.1\n",
      "Grey’s Anatomy 7.7\n",
      "How to Get Away with Murder 8.3\n",
      "Last Man Standing 7.4\n",
      "Marvel’s Agents of SHIELD 7.8\n",
      "The Middle 7.5\n",
      "Modern Family 8.5\n",
      "Notorious 6.5\n",
      "Quantico 8.2\n",
      "The Real O’Neals 7.1\n",
      "Secrets and Lies 7.7\n",
      "Shark Tank 7.5\n",
      "Speechless 7.5\n",
      "Once Upon a Time 7.9\n",
      "Bob’s Burgers 8.1\n",
      "Brooklyn Nine-Nine 8.3\n",
      "Empire 7.8\n",
      "The Exorcist 8.3\n",
      "Family Guy 8.3\n",
      "Gotham 8.0\n",
      "Hell’s Kitchen 7.0\n",
      "The Last Man on Earth 7.4\n",
      "Lethal Weapon 7.7\n",
      "New Girl 7.8\n",
      "Pitch 7.1\n",
      "Rosewood 6.3\n",
      "Scream Queens 7.2\n",
      "The Simpsons 8.8\n",
      "Son of Zorn 6.5\n",
      "Blindspot 7.6\n",
      "The Blacklist 8.2\n",
      "Chicago Fire 7.9\n",
      "Chicago Med 7.8\n",
      "Chicago PD 8.2\n",
      "Dateline NBC 6.6\n",
      "The Good Place 7.3\n",
      "Superstore 7.5\n",
      "This Is Us 8.8\n",
      "Timeless 7.5\n",
      "2 Broke Girls 6.8\n",
      "48 Hours 6.9\n",
      "60 Minutes 7.9\n",
      "The Big Bang Theory 8.4\n",
      "Blue Bloods 7.5\n",
      "Bull 6.6\n",
      "The Case Of 7.8\n",
      "Code Black 7.8\n",
      "Criminal Minds 8.2\n",
      "Elementary 7.9\n",
      "The Great Indoors 5.8\n",
      "Hawaii Five-0 7.4\n",
      "Kevin Can Wait 5.6\n",
      "Life in Pieces 7.6\n",
      "MacGyver 4.5\n",
      "Madam Secretary 7.5\n",
      "Man with a Plan 6.4\n",
      "Mom 7.1\n",
      "NCIS 7.9\n",
      "NCIS: Los Angeles 6.7\n",
      "NCIS: New Orleans 6.9\n",
      "The Odd Couple 6.4\n",
      "Pure in Genius 7.1\n",
      "Scorpion 7.2\n",
      "Survivor 7.0\n"
     ]
    }
   ],
   "source": [
    "df['rating'] = df['name'].apply(search)"
   ]
  },
  {
   "cell_type": "code",
   "execution_count": 28,
   "metadata": {
    "collapsed": true
   },
   "outputs": [],
   "source": [
    "df.to_csv('ratings.csv')"
   ]
  },
  {
   "cell_type": "code",
   "execution_count": null,
   "metadata": {
    "collapsed": true
   },
   "outputs": [],
   "source": []
  }
 ],
 "metadata": {
  "kernelspec": {
   "display_name": "Python [Root]",
   "language": "python",
   "name": "Python [Root]"
  },
  "language_info": {
   "codemirror_mode": {
    "name": "ipython",
    "version": 3
   },
   "file_extension": ".py",
   "mimetype": "text/x-python",
   "name": "python",
   "nbconvert_exporter": "python",
   "pygments_lexer": "ipython3",
   "version": "3.5.2"
  }
 },
 "nbformat": 4,
 "nbformat_minor": 0
}
